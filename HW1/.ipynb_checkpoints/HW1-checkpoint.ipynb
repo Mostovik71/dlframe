{
 "cells": [
  {
   "cell_type": "code",
   "execution_count": 1,
   "id": "03b9dc35",
   "metadata": {},
   "outputs": [],
   "source": [
    "import pandas as pd\n",
    "import numpy as np\n",
    "from hyperopt import fmin, tpe, hp, partial, space_eval\n",
    "from sklearn.metrics import roc_auc_score, precision_score, recall_score, f1_score\n",
    "from lightgbm import LGBMClassifier\n",
    "from sklearn.feature_extraction.text import TfidfVectorizer\n",
    "from sklearn.model_selection import train_test_split\n",
    "from sklearn.model_selection import StratifiedKFold, cross_val_score"
   ]
  },
  {
   "cell_type": "markdown",
   "id": "999321ee",
   "metadata": {},
   "source": [
    "### Data Preparing"
   ]
  },
  {
   "cell_type": "code",
   "execution_count": 2,
   "id": "f766364a",
   "metadata": {},
   "outputs": [],
   "source": [
    "df = pd.read_csv('../data/Ethos_Dataset_Binary.csv', on_bad_lines='skip', sep=';')"
   ]
  },
  {
   "cell_type": "code",
   "execution_count": 3,
   "id": "429737a5",
   "metadata": {},
   "outputs": [
    {
     "data": {
      "text/plain": [
       "(998, 2)"
      ]
     },
     "execution_count": 3,
     "metadata": {},
     "output_type": "execute_result"
    }
   ],
   "source": [
    "df.shape"
   ]
  },
  {
   "cell_type": "code",
   "execution_count": 4,
   "id": "485a2e0f",
   "metadata": {},
   "outputs": [
    {
     "data": {
      "text/html": [
       "<div>\n",
       "<style scoped>\n",
       "    .dataframe tbody tr th:only-of-type {\n",
       "        vertical-align: middle;\n",
       "    }\n",
       "\n",
       "    .dataframe tbody tr th {\n",
       "        vertical-align: top;\n",
       "    }\n",
       "\n",
       "    .dataframe thead th {\n",
       "        text-align: right;\n",
       "    }\n",
       "</style>\n",
       "<table border=\"1\" class=\"dataframe\">\n",
       "  <thead>\n",
       "    <tr style=\"text-align: right;\">\n",
       "      <th></th>\n",
       "      <th>comment</th>\n",
       "      <th>isHate</th>\n",
       "    </tr>\n",
       "  </thead>\n",
       "  <tbody>\n",
       "    <tr>\n",
       "      <th>0</th>\n",
       "      <td>You should know women's sports are a joke</td>\n",
       "      <td>1</td>\n",
       "    </tr>\n",
       "    <tr>\n",
       "      <th>1</th>\n",
       "      <td>You look like Sloth with deeper Down’s syndrome</td>\n",
       "      <td>1</td>\n",
       "    </tr>\n",
       "    <tr>\n",
       "      <th>2</th>\n",
       "      <td>You look like Russian and speak like Indian. B...</td>\n",
       "      <td>1</td>\n",
       "    </tr>\n",
       "    <tr>\n",
       "      <th>3</th>\n",
       "      <td>Women deserve to be abused, I guess.</td>\n",
       "      <td>1</td>\n",
       "    </tr>\n",
       "    <tr>\n",
       "      <th>4</th>\n",
       "      <td>Women are made for making babies and cooking d...</td>\n",
       "      <td>1</td>\n",
       "    </tr>\n",
       "  </tbody>\n",
       "</table>\n",
       "</div>"
      ],
      "text/plain": [
       "                                             comment  isHate\n",
       "0          You should know women's sports are a joke       1\n",
       "1    You look like Sloth with deeper Down’s syndrome       1\n",
       "2  You look like Russian and speak like Indian. B...       1\n",
       "3               Women deserve to be abused, I guess.       1\n",
       "4  Women are made for making babies and cooking d...       1"
      ]
     },
     "execution_count": 4,
     "metadata": {},
     "output_type": "execute_result"
    }
   ],
   "source": [
    "df.head()"
   ]
  },
  {
   "cell_type": "code",
   "execution_count": 5,
   "id": "654d5fa6",
   "metadata": {},
   "outputs": [],
   "source": [
    "# df.isHate = df.isHate.apply(lambda x: 1 if x > 0.5 else 0)"
   ]
  },
  {
   "cell_type": "code",
   "execution_count": 6,
   "id": "fae23740",
   "metadata": {},
   "outputs": [],
   "source": [
    "# df.to_csv('../data/Ethos_Dataset_Binary.csv', index=False, sep=';')"
   ]
  },
  {
   "cell_type": "code",
   "execution_count": 5,
   "id": "a89f6156",
   "metadata": {},
   "outputs": [
    {
     "data": {
      "text/plain": [
       "0    639\n",
       "1    359\n",
       "Name: isHate, dtype: int64"
      ]
     },
     "execution_count": 5,
     "metadata": {},
     "output_type": "execute_result"
    }
   ],
   "source": [
    "df.isHate.value_counts()"
   ]
  },
  {
   "cell_type": "code",
   "execution_count": 6,
   "id": "55695532",
   "metadata": {},
   "outputs": [],
   "source": [
    "df_train, df_test = train_test_split(df, stratify=df.isHate, test_size=0.3)"
   ]
  },
  {
   "cell_type": "code",
   "execution_count": 7,
   "id": "26ae379d",
   "metadata": {},
   "outputs": [
    {
     "data": {
      "text/plain": [
       "((698, 2), (300, 2))"
      ]
     },
     "execution_count": 7,
     "metadata": {},
     "output_type": "execute_result"
    }
   ],
   "source": [
    "df_train.shape, df_test.shape"
   ]
  },
  {
   "cell_type": "markdown",
   "id": "55c7606a",
   "metadata": {},
   "source": [
    "### Feature extraction"
   ]
  },
  {
   "cell_type": "code",
   "execution_count": 8,
   "id": "c23a9e1b",
   "metadata": {},
   "outputs": [],
   "source": [
    "word_vect = TfidfVectorizer(\n",
    "            sublinear_tf=True,\n",
    "            strip_accents='unicode',\n",
    "            analyzer='word',\n",
    "            stop_words='english',\n",
    "            ngram_range=(1, 2),\n",
    "            max_features=2000)"
   ]
  },
  {
   "cell_type": "code",
   "execution_count": 9,
   "id": "71a9af83",
   "metadata": {},
   "outputs": [],
   "source": [
    "word_vect.fit(df['comment'])\n",
    "train_word_features  = word_vect.transform(df_train['comment'])\n",
    "test_word_features  = word_vect.transform(df_test['comment'])"
   ]
  },
  {
   "cell_type": "code",
   "execution_count": 10,
   "id": "1d5a6677",
   "metadata": {},
   "outputs": [],
   "source": [
    "X_train = train_word_features.tocsr()\n",
    "X_test = test_word_features.tocsr()\n",
    "y_train = df_train.isHate\n",
    "y_test = df_test.isHate"
   ]
  },
  {
   "cell_type": "code",
   "execution_count": 11,
   "id": "b1288e29",
   "metadata": {},
   "outputs": [
    {
     "data": {
      "text/plain": [
       "((698, 2000), (300, 2000))"
      ]
     },
     "execution_count": 11,
     "metadata": {},
     "output_type": "execute_result"
    }
   ],
   "source": [
    "X_train.shape, X_test.shape"
   ]
  },
  {
   "cell_type": "markdown",
   "id": "eb653b3b",
   "metadata": {},
   "source": [
    "### Model creation and evaluation"
   ]
  },
  {
   "cell_type": "code",
   "execution_count": 12,
   "id": "711e565c",
   "metadata": {},
   "outputs": [],
   "source": [
    "clf = LGBMClassifier(random_state=42) "
   ]
  },
  {
   "cell_type": "code",
   "execution_count": 13,
   "id": "1be1fdbc",
   "metadata": {},
   "outputs": [
    {
     "data": {
      "text/plain": [
       "LGBMClassifier(random_state=42)"
      ]
     },
     "execution_count": 13,
     "metadata": {},
     "output_type": "execute_result"
    }
   ],
   "source": [
    "clf.fit(X_train, y_train)"
   ]
  },
  {
   "cell_type": "code",
   "execution_count": 14,
   "id": "8abad031",
   "metadata": {},
   "outputs": [],
   "source": [
    "probas_train = clf.predict_proba(X_train)\n",
    "probas_test = clf.predict_proba(X_test)\n",
    "predicts_train = clf.predict(X_train)\n",
    "predicts_test = clf.predict(X_test)"
   ]
  },
  {
   "cell_type": "code",
   "execution_count": 15,
   "id": "6fd9f0a2",
   "metadata": {},
   "outputs": [],
   "source": [
    "metrics_train = {\"roc_auc\": roc_auc_score(y_train, probas_train[:, 1]),\n",
    "                 \"precision_macro\": precision_score(y_train, predicts_train, average='macro'),\n",
    "                 \"recall_macro\": recall_score(y_train, predicts_train, average='macro'),\n",
    "                 \"f1_macro\": f1_score(y_train, predicts_train, average='macro')\n",
    "                }\n",
    "\n",
    "metrics_test = {\"roc_auc\": roc_auc_score(y_test, probas_test[:, 1]),\n",
    "                \"precision_macro\": precision_score(y_test, predicts_test, average='macro'),\n",
    "                \"recall_macro\": recall_score(y_test, predicts_test, average='macro'),\n",
    "                \"f1_macro\": f1_score(y_test, predicts_test, average='macro')\n",
    "                }"
   ]
  },
  {
   "cell_type": "code",
   "execution_count": 16,
   "id": "5b263696",
   "metadata": {},
   "outputs": [],
   "source": [
    "metrics_before_tuning = pd.DataFrame([metrics_train, metrics_test], index=['train', 'test']).T"
   ]
  },
  {
   "cell_type": "code",
   "execution_count": 17,
   "id": "5f78bca1",
   "metadata": {},
   "outputs": [
    {
     "data": {
      "text/html": [
       "<div>\n",
       "<style scoped>\n",
       "    .dataframe tbody tr th:only-of-type {\n",
       "        vertical-align: middle;\n",
       "    }\n",
       "\n",
       "    .dataframe tbody tr th {\n",
       "        vertical-align: top;\n",
       "    }\n",
       "\n",
       "    .dataframe thead th {\n",
       "        text-align: right;\n",
       "    }\n",
       "</style>\n",
       "<table border=\"1\" class=\"dataframe\">\n",
       "  <thead>\n",
       "    <tr style=\"text-align: right;\">\n",
       "      <th></th>\n",
       "      <th>train</th>\n",
       "      <th>test</th>\n",
       "    </tr>\n",
       "  </thead>\n",
       "  <tbody>\n",
       "    <tr>\n",
       "      <th>roc_auc</th>\n",
       "      <td>0.788288</td>\n",
       "      <td>0.577305</td>\n",
       "    </tr>\n",
       "    <tr>\n",
       "      <th>precision_macro</th>\n",
       "      <td>0.781960</td>\n",
       "      <td>0.591662</td>\n",
       "    </tr>\n",
       "    <tr>\n",
       "      <th>recall_macro</th>\n",
       "      <td>0.724672</td>\n",
       "      <td>0.578414</td>\n",
       "    </tr>\n",
       "    <tr>\n",
       "      <th>f1_macro</th>\n",
       "      <td>0.737773</td>\n",
       "      <td>0.579037</td>\n",
       "    </tr>\n",
       "  </tbody>\n",
       "</table>\n",
       "</div>"
      ],
      "text/plain": [
       "                    train      test\n",
       "roc_auc          0.788288  0.577305\n",
       "precision_macro  0.781960  0.591662\n",
       "recall_macro     0.724672  0.578414\n",
       "f1_macro         0.737773  0.579037"
      ]
     },
     "execution_count": 17,
     "metadata": {},
     "output_type": "execute_result"
    }
   ],
   "source": [
    "metrics_before_tuning"
   ]
  },
  {
   "cell_type": "markdown",
   "id": "c8004c36",
   "metadata": {},
   "source": [
    "### Hyperparameters optimization"
   ]
  },
  {
   "cell_type": "code",
   "execution_count": 18,
   "id": "a61c315f",
   "metadata": {},
   "outputs": [],
   "source": [
    "space = {\"max_depth\": hp.choice('max_depth', np.arange(4, 12, 2, dtype=int)),\n",
    "         \"learning_rate\": hp.loguniform('learning_rate', np.log(0.01), np.log(0.5)),\n",
    "         \"feature_fraction\": hp.uniform('feature_fraction', 0.5, 1),\n",
    "         \"num_leaves\": hp.choice('num_leaves', np.arange(16, 256, 2, dtype=int))\n",
    "         }\n"
   ]
  },
  {
   "cell_type": "code",
   "execution_count": 19,
   "id": "daa3de4d",
   "metadata": {},
   "outputs": [],
   "source": [
    "def objective(params):\n",
    "    lgbm = LGBMClassifier(**params)\n",
    "    cv = StratifiedKFold(3)\n",
    "    score = cross_val_score(lgbm, X_train, y_train, scoring='roc_auc', cv=cv, n_jobs=-1).mean()\n",
    "    return 1 - score"
   ]
  },
  {
   "cell_type": "code",
   "execution_count": 20,
   "id": "27b79c03",
   "metadata": {},
   "outputs": [
    {
     "name": "stdout",
     "output_type": "stream",
     "text": [
      "100%|███████████████████████████████████████████████████| 5/5 [00:08<00:00,  1.67s/trial, best loss: 0.367389019163904]\n"
     ]
    }
   ],
   "source": [
    "best = fmin(objective, space, algo=tpe.suggest, max_evals=5)"
   ]
  },
  {
   "cell_type": "code",
   "execution_count": 21,
   "id": "4833dc8d",
   "metadata": {},
   "outputs": [
    {
     "data": {
      "text/plain": [
       "{'feature_fraction': 0.8943702879024744,\n",
       " 'learning_rate': 0.15311124281446548,\n",
       " 'max_depth': 4,\n",
       " 'num_leaves': 64}"
      ]
     },
     "execution_count": 21,
     "metadata": {},
     "output_type": "execute_result"
    }
   ],
   "source": [
    "best_params = space_eval(space, best)\n",
    "best_params"
   ]
  },
  {
   "cell_type": "markdown",
   "id": "5f2ebaff",
   "metadata": {},
   "source": [
    "### Model after tuning"
   ]
  },
  {
   "cell_type": "code",
   "execution_count": 22,
   "id": "78f4f0d4",
   "metadata": {},
   "outputs": [],
   "source": [
    "clf = LGBMClassifier(random_state = 42, **best_params)"
   ]
  },
  {
   "cell_type": "code",
   "execution_count": 23,
   "id": "ff70c936",
   "metadata": {},
   "outputs": [
    {
     "name": "stdout",
     "output_type": "stream",
     "text": [
      "[LightGBM] [Warning] feature_fraction is set=0.8943702879024744, colsample_bytree=1.0 will be ignored. Current value: feature_fraction=0.8943702879024744\n"
     ]
    },
    {
     "data": {
      "text/plain": [
       "LGBMClassifier(feature_fraction=0.8943702879024744,\n",
       "               learning_rate=0.15311124281446548, max_depth=4, num_leaves=64,\n",
       "               random_state=42)"
      ]
     },
     "execution_count": 23,
     "metadata": {},
     "output_type": "execute_result"
    }
   ],
   "source": [
    "clf.fit(X_train, y_train)"
   ]
  },
  {
   "cell_type": "code",
   "execution_count": 24,
   "id": "238c5514",
   "metadata": {},
   "outputs": [],
   "source": [
    "probas_train = clf.predict_proba(X_train)\n",
    "probas_test = clf.predict_proba(X_test)\n",
    "predicts_train = clf.predict(X_train)\n",
    "predicts_test = clf.predict(X_test)"
   ]
  },
  {
   "cell_type": "code",
   "execution_count": 25,
   "id": "23ba732b",
   "metadata": {},
   "outputs": [],
   "source": [
    "metrics_train_after_tuning = {\"roc_auc\": roc_auc_score(y_train, probas_train[:, 1]),\n",
    "                 \"precision_macro\": precision_score(y_train, predicts_train, average='macro'),\n",
    "                 \"recall_macro\": recall_score(y_train, predicts_train, average='macro'),\n",
    "                 \"f1_macro\": f1_score(y_train, predicts_train, average='macro')\n",
    "                }\n",
    "\n",
    "metrics_test_after_tuning = {\"roc_auc\": roc_auc_score(y_test, probas_test[:, 1]),\n",
    "                \"precision_macro\": precision_score(y_test, predicts_test, average='macro'),\n",
    "                \"recall_macro\": recall_score(y_test, predicts_test, average='macro'),\n",
    "                \"f1_macro\": f1_score(y_test, predicts_test, average='macro')\n",
    "                }"
   ]
  },
  {
   "cell_type": "code",
   "execution_count": 26,
   "id": "e0e46f1a",
   "metadata": {},
   "outputs": [],
   "source": [
    "metrics_after_tuning = pd.DataFrame([metrics_train_after_tuning, metrics_test_after_tuning], index=['train', 'test']).T"
   ]
  },
  {
   "cell_type": "code",
   "execution_count": 27,
   "id": "b6bb2234",
   "metadata": {},
   "outputs": [
    {
     "data": {
      "text/html": [
       "<div>\n",
       "<style scoped>\n",
       "    .dataframe tbody tr th:only-of-type {\n",
       "        vertical-align: middle;\n",
       "    }\n",
       "\n",
       "    .dataframe tbody tr th {\n",
       "        vertical-align: top;\n",
       "    }\n",
       "\n",
       "    .dataframe thead th {\n",
       "        text-align: right;\n",
       "    }\n",
       "</style>\n",
       "<table border=\"1\" class=\"dataframe\">\n",
       "  <thead>\n",
       "    <tr style=\"text-align: right;\">\n",
       "      <th></th>\n",
       "      <th>train</th>\n",
       "      <th>test</th>\n",
       "    </tr>\n",
       "  </thead>\n",
       "  <tbody>\n",
       "    <tr>\n",
       "      <th>roc_auc</th>\n",
       "      <td>0.753986</td>\n",
       "      <td>0.600019</td>\n",
       "    </tr>\n",
       "    <tr>\n",
       "      <th>precision_macro</th>\n",
       "      <td>0.757307</td>\n",
       "      <td>0.615556</td>\n",
       "    </tr>\n",
       "    <tr>\n",
       "      <th>recall_macro</th>\n",
       "      <td>0.697412</td>\n",
       "      <td>0.594039</td>\n",
       "    </tr>\n",
       "    <tr>\n",
       "      <th>f1_macro</th>\n",
       "      <td>0.708617</td>\n",
       "      <td>0.595078</td>\n",
       "    </tr>\n",
       "  </tbody>\n",
       "</table>\n",
       "</div>"
      ],
      "text/plain": [
       "                    train      test\n",
       "roc_auc          0.753986  0.600019\n",
       "precision_macro  0.757307  0.615556\n",
       "recall_macro     0.697412  0.594039\n",
       "f1_macro         0.708617  0.595078"
      ]
     },
     "execution_count": 27,
     "metadata": {},
     "output_type": "execute_result"
    }
   ],
   "source": [
    "metrics_after_tuning"
   ]
  },
  {
   "cell_type": "code",
   "execution_count": 28,
   "id": "f9f48445",
   "metadata": {},
   "outputs": [
    {
     "data": {
      "text/html": [
       "<div>\n",
       "<style scoped>\n",
       "    .dataframe tbody tr th:only-of-type {\n",
       "        vertical-align: middle;\n",
       "    }\n",
       "\n",
       "    .dataframe tbody tr th {\n",
       "        vertical-align: top;\n",
       "    }\n",
       "\n",
       "    .dataframe thead th {\n",
       "        text-align: right;\n",
       "    }\n",
       "</style>\n",
       "<table border=\"1\" class=\"dataframe\">\n",
       "  <thead>\n",
       "    <tr style=\"text-align: right;\">\n",
       "      <th></th>\n",
       "      <th>train</th>\n",
       "      <th>test</th>\n",
       "    </tr>\n",
       "  </thead>\n",
       "  <tbody>\n",
       "    <tr>\n",
       "      <th>roc_auc</th>\n",
       "      <td>-0.034301</td>\n",
       "      <td>0.022714</td>\n",
       "    </tr>\n",
       "    <tr>\n",
       "      <th>precision_macro</th>\n",
       "      <td>-0.024653</td>\n",
       "      <td>0.023893</td>\n",
       "    </tr>\n",
       "    <tr>\n",
       "      <th>recall_macro</th>\n",
       "      <td>-0.027260</td>\n",
       "      <td>0.015625</td>\n",
       "    </tr>\n",
       "    <tr>\n",
       "      <th>f1_macro</th>\n",
       "      <td>-0.029156</td>\n",
       "      <td>0.016041</td>\n",
       "    </tr>\n",
       "  </tbody>\n",
       "</table>\n",
       "</div>"
      ],
      "text/plain": [
       "                    train      test\n",
       "roc_auc         -0.034301  0.022714\n",
       "precision_macro -0.024653  0.023893\n",
       "recall_macro    -0.027260  0.015625\n",
       "f1_macro        -0.029156  0.016041"
      ]
     },
     "execution_count": 28,
     "metadata": {},
     "output_type": "execute_result"
    }
   ],
   "source": [
    "metrics_after_tuning - metrics_before_tuning"
   ]
  },
  {
   "cell_type": "code",
   "execution_count": null,
   "id": "7f6125e4",
   "metadata": {},
   "outputs": [],
   "source": []
  },
  {
   "cell_type": "code",
   "execution_count": null,
   "id": "cb315b7f",
   "metadata": {},
   "outputs": [],
   "source": []
  }
 ],
 "metadata": {
  "kernelspec": {
   "display_name": "Python 3 (ipykernel)",
   "language": "python",
   "name": "python3"
  },
  "language_info": {
   "codemirror_mode": {
    "name": "ipython",
    "version": 3
   },
   "file_extension": ".py",
   "mimetype": "text/x-python",
   "name": "python",
   "nbconvert_exporter": "python",
   "pygments_lexer": "ipython3",
   "version": "3.9.10"
  }
 },
 "nbformat": 4,
 "nbformat_minor": 5
}
