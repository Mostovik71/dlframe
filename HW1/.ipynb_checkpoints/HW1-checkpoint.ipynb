{
 "cells": [
  {
   "cell_type": "code",
   "execution_count": 1,
   "id": "03b9dc35",
   "metadata": {},
   "outputs": [],
   "source": [
    "import pandas as pd\n",
    "import numpy as np\n",
    "from hyperopt import fmin, tpe, hp, partial, space_eval\n",
    "from sklearn.metrics import roc_auc_score\n",
    "from lightgbm import LGBMClassifier\n",
    "from sklearn.feature_extraction.text import TfidfVectorizer\n",
    "from sklearn.model_selection import train_test_split\n",
    "from sklearn.model_selection import StratifiedKFold, cross_val_score"
   ]
  },
  {
   "cell_type": "markdown",
   "id": "999321ee",
   "metadata": {},
   "source": [
    "### Data Preparing"
   ]
  },
  {
   "cell_type": "code",
   "execution_count": 2,
   "id": "f766364a",
   "metadata": {},
   "outputs": [],
   "source": [
    "df = pd.read_csv('../data/Ethos_Dataset_Binary.csv', on_bad_lines='skip', sep=';')"
   ]
  },
  {
   "cell_type": "code",
   "execution_count": 3,
   "id": "429737a5",
   "metadata": {},
   "outputs": [
    {
     "data": {
      "text/plain": [
       "(998, 2)"
      ]
     },
     "execution_count": 3,
     "metadata": {},
     "output_type": "execute_result"
    }
   ],
   "source": [
    "df.shape"
   ]
  },
  {
   "cell_type": "code",
   "execution_count": 4,
   "id": "485a2e0f",
   "metadata": {},
   "outputs": [
    {
     "data": {
      "text/html": [
       "<div>\n",
       "<style scoped>\n",
       "    .dataframe tbody tr th:only-of-type {\n",
       "        vertical-align: middle;\n",
       "    }\n",
       "\n",
       "    .dataframe tbody tr th {\n",
       "        vertical-align: top;\n",
       "    }\n",
       "\n",
       "    .dataframe thead th {\n",
       "        text-align: right;\n",
       "    }\n",
       "</style>\n",
       "<table border=\"1\" class=\"dataframe\">\n",
       "  <thead>\n",
       "    <tr style=\"text-align: right;\">\n",
       "      <th></th>\n",
       "      <th>comment</th>\n",
       "      <th>isHate</th>\n",
       "    </tr>\n",
       "  </thead>\n",
       "  <tbody>\n",
       "    <tr>\n",
       "      <th>0</th>\n",
       "      <td>You should know women's sports are a joke</td>\n",
       "      <td>1.0</td>\n",
       "    </tr>\n",
       "    <tr>\n",
       "      <th>1</th>\n",
       "      <td>You look like Sloth with deeper Down’s syndrome</td>\n",
       "      <td>1.0</td>\n",
       "    </tr>\n",
       "    <tr>\n",
       "      <th>2</th>\n",
       "      <td>You look like Russian and speak like Indian. B...</td>\n",
       "      <td>1.0</td>\n",
       "    </tr>\n",
       "    <tr>\n",
       "      <th>3</th>\n",
       "      <td>Women deserve to be abused, I guess.</td>\n",
       "      <td>1.0</td>\n",
       "    </tr>\n",
       "    <tr>\n",
       "      <th>4</th>\n",
       "      <td>Women are made for making babies and cooking d...</td>\n",
       "      <td>1.0</td>\n",
       "    </tr>\n",
       "  </tbody>\n",
       "</table>\n",
       "</div>"
      ],
      "text/plain": [
       "                                             comment  isHate\n",
       "0          You should know women's sports are a joke     1.0\n",
       "1    You look like Sloth with deeper Down’s syndrome     1.0\n",
       "2  You look like Russian and speak like Indian. B...     1.0\n",
       "3               Women deserve to be abused, I guess.     1.0\n",
       "4  Women are made for making babies and cooking d...     1.0"
      ]
     },
     "execution_count": 4,
     "metadata": {},
     "output_type": "execute_result"
    }
   ],
   "source": [
    "df.head()"
   ]
  },
  {
   "cell_type": "code",
   "execution_count": 5,
   "id": "654d5fa6",
   "metadata": {},
   "outputs": [],
   "source": [
    "df.isHate = df.isHate.apply(lambda x: 1 if x > 0.5 else 0)"
   ]
  },
  {
   "cell_type": "code",
   "execution_count": 6,
   "id": "a89f6156",
   "metadata": {},
   "outputs": [
    {
     "data": {
      "text/plain": [
       "0    639\n",
       "1    359\n",
       "Name: isHate, dtype: int64"
      ]
     },
     "execution_count": 6,
     "metadata": {},
     "output_type": "execute_result"
    }
   ],
   "source": [
    "df.isHate.value_counts()"
   ]
  },
  {
   "cell_type": "code",
   "execution_count": 7,
   "id": "c23a9e1b",
   "metadata": {},
   "outputs": [],
   "source": [
    "word_vect = TfidfVectorizer(\n",
    "            sublinear_tf=True,\n",
    "            strip_accents='unicode',\n",
    "            analyzer='word',\n",
    "            stop_words='english',\n",
    "            ngram_range=(1, 2),\n",
    "            max_features=2000)"
   ]
  },
  {
   "cell_type": "code",
   "execution_count": 8,
   "id": "8a9ab798",
   "metadata": {},
   "outputs": [],
   "source": [
    "df_train, df_test = train_test_split(df, stratify=df.isHate, test_size=0.3)"
   ]
  },
  {
   "cell_type": "code",
   "execution_count": 9,
   "id": "123a8b0b",
   "metadata": {},
   "outputs": [
    {
     "data": {
      "text/plain": [
       "((698, 2), (300, 2))"
      ]
     },
     "execution_count": 9,
     "metadata": {},
     "output_type": "execute_result"
    }
   ],
   "source": [
    "df_train.shape, df_test.shape"
   ]
  },
  {
   "cell_type": "code",
   "execution_count": 10,
   "id": "71a9af83",
   "metadata": {},
   "outputs": [],
   "source": [
    "word_vect.fit(df_train['comment'])\n",
    "train_word_features  = word_vect.transform(df_train['comment'])\n",
    "test_word_features  = word_vect.transform(df_test['comment'])"
   ]
  },
  {
   "cell_type": "code",
   "execution_count": 11,
   "id": "1d5a6677",
   "metadata": {},
   "outputs": [],
   "source": [
    "X_train = train_word_features.tocsr()\n",
    "X_test = test_word_features.tocsr()\n",
    "y_train = df_train.isHate\n",
    "y_test = df_test.isHate"
   ]
  },
  {
   "cell_type": "code",
   "execution_count": 12,
   "id": "b1288e29",
   "metadata": {},
   "outputs": [
    {
     "data": {
      "text/plain": [
       "((698, 2000), (300, 2000))"
      ]
     },
     "execution_count": 12,
     "metadata": {},
     "output_type": "execute_result"
    }
   ],
   "source": [
    "X_train.shape, X_test.shape"
   ]
  },
  {
   "cell_type": "markdown",
   "id": "eb653b3b",
   "metadata": {},
   "source": [
    "### Model creation and evaluation"
   ]
  },
  {
   "cell_type": "code",
   "execution_count": 13,
   "id": "711e565c",
   "metadata": {},
   "outputs": [],
   "source": [
    "clf = LGBMClassifier(random_state=42) "
   ]
  },
  {
   "cell_type": "code",
   "execution_count": 14,
   "id": "1be1fdbc",
   "metadata": {},
   "outputs": [
    {
     "data": {
      "text/plain": [
       "LGBMClassifier(random_state=42)"
      ]
     },
     "execution_count": 14,
     "metadata": {},
     "output_type": "execute_result"
    }
   ],
   "source": [
    "clf.fit(X_train, y_train)"
   ]
  },
  {
   "cell_type": "code",
   "execution_count": 15,
   "id": "8abad031",
   "metadata": {},
   "outputs": [],
   "source": [
    "probas_train = clf.predict_proba(X_train)\n",
    "probas_test = clf.predict_proba(X_test)"
   ]
  },
  {
   "cell_type": "code",
   "execution_count": 16,
   "id": "aab91401",
   "metadata": {},
   "outputs": [],
   "source": [
    "train_auc = roc_auc_score(y_train, probas_train[:, 1])\n",
    "test_auc = roc_auc_score(y_test, probas_test[:, 1])"
   ]
  },
  {
   "cell_type": "code",
   "execution_count": 17,
   "id": "362aa50f",
   "metadata": {},
   "outputs": [
    {
     "data": {
      "text/plain": [
       "(0.7958412435270106, 0.5913628472222223)"
      ]
     },
     "execution_count": 17,
     "metadata": {},
     "output_type": "execute_result"
    }
   ],
   "source": [
    "train_auc, test_auc"
   ]
  },
  {
   "cell_type": "markdown",
   "id": "c8004c36",
   "metadata": {},
   "source": [
    "### Hyperparameters optimization"
   ]
  },
  {
   "cell_type": "code",
   "execution_count": 18,
   "id": "a61c315f",
   "metadata": {},
   "outputs": [],
   "source": [
    "space = {\"max_depth\": hp.randint(\"max_depth\", 15),\n",
    "         \"learning_rate\": hp.loguniform('learning_rate', np.log(0.01), np.log(0.2)),\n",
    "         \"feature_fraction\": hp.uniform('feature_fraction', 0.5, 1),\n",
    "         \"num_leaves\": hp.choice('num_leaves', np.arange(16, 200, 10, dtype=int))\n",
    "         }\n"
   ]
  },
  {
   "cell_type": "code",
   "execution_count": 19,
   "id": "daa3de4d",
   "metadata": {},
   "outputs": [],
   "source": [
    "def objective(params):\n",
    "    lgbm= LGBMClassifier(**params)\n",
    "    cv = StratifiedKFold(5)\n",
    "    score = cross_val_score(lgbm, X_train, y_train, scoring='roc_auc', cv=cv, n_jobs=-1).mean()\n",
    "    return -score"
   ]
  },
  {
   "cell_type": "code",
   "execution_count": 20,
   "id": "27b79c03",
   "metadata": {},
   "outputs": [
    {
     "name": "stdout",
     "output_type": "stream",
     "text": [
      "100%|█████████████████████████████████████████████████| 5/5 [00:06<00:00,  1.32s/trial, best loss: -0.6143082470441359]\n"
     ]
    }
   ],
   "source": [
    "best = fmin(objective, space, algo=tpe.suggest, max_evals=5)"
   ]
  },
  {
   "cell_type": "code",
   "execution_count": 21,
   "id": "4833dc8d",
   "metadata": {},
   "outputs": [
    {
     "data": {
      "text/plain": [
       "{'feature_fraction': 0.5224473675625827,\n",
       " 'learning_rate': 0.06286942009633371,\n",
       " 'max_depth': 7,\n",
       " 'num_leaves': 56}"
      ]
     },
     "execution_count": 21,
     "metadata": {},
     "output_type": "execute_result"
    }
   ],
   "source": [
    "best_params = space_eval(space, best)\n",
    "best_params"
   ]
  },
  {
   "cell_type": "markdown",
   "id": "5f2ebaff",
   "metadata": {},
   "source": [
    "### Model after tuning"
   ]
  },
  {
   "cell_type": "code",
   "execution_count": 22,
   "id": "78f4f0d4",
   "metadata": {},
   "outputs": [],
   "source": [
    "clf = LGBMClassifier(**best_params)"
   ]
  },
  {
   "cell_type": "code",
   "execution_count": 23,
   "id": "ff70c936",
   "metadata": {},
   "outputs": [
    {
     "name": "stdout",
     "output_type": "stream",
     "text": [
      "[LightGBM] [Warning] feature_fraction is set=0.5224473675625827, colsample_bytree=1.0 will be ignored. Current value: feature_fraction=0.5224473675625827\n"
     ]
    },
    {
     "data": {
      "text/plain": [
       "LGBMClassifier(feature_fraction=0.5224473675625827,\n",
       "               learning_rate=0.06286942009633371, max_depth=7, num_leaves=56)"
      ]
     },
     "execution_count": 23,
     "metadata": {},
     "output_type": "execute_result"
    }
   ],
   "source": [
    "clf.fit(X_train, y_train)"
   ]
  },
  {
   "cell_type": "code",
   "execution_count": 24,
   "id": "238c5514",
   "metadata": {},
   "outputs": [],
   "source": [
    "probas_train = clf.predict_proba(X_train)\n",
    "probas_test = clf.predict_proba(X_test)"
   ]
  },
  {
   "cell_type": "code",
   "execution_count": 25,
   "id": "ca10cf09",
   "metadata": {},
   "outputs": [],
   "source": [
    "train_auc = roc_auc_score(y_train, probas_train[:, 1])\n",
    "test_auc = roc_auc_score(y_test, probas_test[:, 1])"
   ]
  },
  {
   "cell_type": "code",
   "execution_count": 26,
   "id": "23ba732b",
   "metadata": {},
   "outputs": [
    {
     "data": {
      "text/plain": [
       "(0.7598242377247163, 0.6057581018518519)"
      ]
     },
     "execution_count": 26,
     "metadata": {},
     "output_type": "execute_result"
    }
   ],
   "source": [
    "train_auc, test_auc"
   ]
  },
  {
   "cell_type": "code",
   "execution_count": null,
   "id": "e0e46f1a",
   "metadata": {},
   "outputs": [],
   "source": []
  }
 ],
 "metadata": {
  "kernelspec": {
   "display_name": "Python 3 (ipykernel)",
   "language": "python",
   "name": "python3"
  },
  "language_info": {
   "codemirror_mode": {
    "name": "ipython",
    "version": 3
   },
   "file_extension": ".py",
   "mimetype": "text/x-python",
   "name": "python",
   "nbconvert_exporter": "python",
   "pygments_lexer": "ipython3",
   "version": "3.9.10"
  }
 },
 "nbformat": 4,
 "nbformat_minor": 5
}
